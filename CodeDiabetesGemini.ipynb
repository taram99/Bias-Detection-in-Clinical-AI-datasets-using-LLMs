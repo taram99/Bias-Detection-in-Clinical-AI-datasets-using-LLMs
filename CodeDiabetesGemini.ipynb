{
 "cells": [
  {
   "cell_type": "markdown",
   "id": "02d10f58-ae57-43d5-870f-37535b83310c",
   "metadata": {},
   "source": [
    "# Gemini programming code responses test for diabetes dataset"
   ]
  },
  {
   "cell_type": "markdown",
   "id": "cd348a73-4115-45e1-ba15-4b1b37a7f323",
   "metadata": {},
   "source": [
    "### Prompt 1"
   ]
  },
  {
   "cell_type": "code",
   "execution_count": 2,
   "id": "f3e19919-db65-472f-880e-587eab45e846",
   "metadata": {},
   "outputs": [],
   "source": [
    "#import pandas as pd; df = pd.read_csv('diabetesdatasets/diabetic_data.csv', nrows=5); print(df.columns.tolist()); print(df.head())"
   ]
  },
  {
   "cell_type": "code",
   "execution_count": 3,
   "id": "9cde4e49-8d0b-4102-bcd0-c8b503af3697",
   "metadata": {},
   "outputs": [
    {
     "name": "stdout",
     "output_type": "stream",
     "text": [
      "Race Distribution:\n",
      " race\n",
      "Caucasian          76099\n",
      "AfricanAmerican    19210\n",
      "?                   2273\n",
      "Hispanic            2037\n",
      "Other               1506\n",
      "Asian                641\n",
      "Name: count, dtype: int64\n",
      "\n",
      "Gender Distribution:\n",
      " gender\n",
      "Female             54708\n",
      "Male               47055\n",
      "Unknown/Invalid        3\n",
      "Name: count, dtype: int64\n",
      "\n",
      "Age Distribution:\n",
      " age\n",
      "[70-80)     26068\n",
      "[60-70)     22483\n",
      "[50-60)     17256\n",
      "[80-90)     17197\n",
      "[40-50)      9685\n",
      "[30-40)      3775\n",
      "[90-100)     2793\n",
      "[20-30)      1657\n",
      "[10-20)       691\n",
      "[0-10)        161\n",
      "Name: count, dtype: int64\n"
     ]
    }
   ],
   "source": [
    "import pandas as pd\n",
    "df = pd.read_csv('diabetesdatasets/diabetic_data.csv'); print('Race Distribution:\\n', df['race'].value_counts()); print('\\nGender Distribution:\\n', df['gender'].value_counts()); print('\\nAge Distribution:\\n', df['age'].value_counts())"
   ]
  },
  {
   "cell_type": "markdown",
   "id": "02175879-91eb-4321-98a5-9cf8b297924c",
   "metadata": {},
   "source": [
    "### output\n",
    "output same as what llm said what the output is"
   ]
  },
  {
   "cell_type": "markdown",
   "id": "07400686-b2e8-465c-b93b-3e6cdb41d24d",
   "metadata": {},
   "source": [
    "## Prompt 2"
   ]
  },
  {
   "cell_type": "code",
   "execution_count": 4,
   "id": "6f2fa4fb-3be8-4af5-a1e1-ae2599d00118",
   "metadata": {},
   "outputs": [
    {
     "name": "stdout",
     "output_type": "stream",
     "text": [
      "Readmission rates by Race:\n",
      "\n",
      "readmitted             <30        >30         NO\n",
      "race                                            \n",
      "?                 8.271007  23.669160  68.059833\n",
      "AfricanAmerican  11.218116  34.534097  54.247788\n",
      "Asian            10.140406  25.117005  64.742590\n",
      "Caucasian        11.290556  35.643044  53.066400\n",
      "Hispanic         10.407462  31.516937  58.075601\n",
      "Other             9.628154  29.614874  60.756972\n"
     ]
    }
   ],
   "source": [
    "import pandas as pd\n",
    "df = pd.read_csv('diabetesdatasets/diabetic_data.csv'); print('Readmission rates by Race:\\n'); print(pd.crosstab(df['race'], df['readmitted'], normalize='index') * 100)"
   ]
  },
  {
   "cell_type": "code",
   "execution_count": 5,
   "id": "4be3028c-224d-4188-8271-6678722a87de",
   "metadata": {},
   "outputs": [
    {
     "name": "stdout",
     "output_type": "stream",
     "text": [
      "\n",
      "Readmission rates by Gender:\n",
      "\n",
      "readmitted             <30        >30          NO\n",
      "gender                                           \n",
      "Female           11.245156  35.676683   53.078160\n",
      "Male             11.061524  34.060142   54.878334\n",
      "Unknown/Invalid   0.000000   0.000000  100.000000\n"
     ]
    }
   ],
   "source": [
    "import pandas as pd\n",
    "df = pd.read_csv('diabetesdatasets/diabetic_data.csv'); print('\\nReadmission rates by Gender:\\n'); print(pd.crosstab(df['gender'], df['readmitted'], normalize='index') * 100)"
   ]
  },
  {
   "cell_type": "code",
   "execution_count": 6,
   "id": "cdaadffe-f083-48d4-9b69-b218d8c1b90b",
   "metadata": {},
   "outputs": [
    {
     "name": "stdout",
     "output_type": "stream",
     "text": [
      "\n",
      "Readmission rates by Age:\n",
      "\n",
      "readmitted        <30        >30         NO\n",
      "age                                        \n",
      "[0-10)       1.863354  16.149068  81.987578\n",
      "[10-20)      5.788712  32.416787  61.794501\n",
      "[20-30)     14.242607  30.778515  54.978877\n",
      "[30-40)     11.231788  31.443709  57.324503\n",
      "[40-50)     10.604027  33.846154  55.549819\n",
      "[50-60)      9.666203  34.289522  56.044274\n",
      "[60-70)     11.128408  35.124316  53.747276\n",
      "[70-80)     11.773055  36.347246  51.879699\n",
      "[80-90)     12.083503  36.186544  51.729953\n",
      "[90-100)    11.099177  28.929467  59.971357\n"
     ]
    }
   ],
   "source": [
    "import pandas as pd\n",
    "df = pd.read_csv('diabetesdatasets/diabetic_data.csv'); print('\\nReadmission rates by Age:\\n'); print(pd.crosstab(df['age'], df['readmitted'], normalize='index') * 100)"
   ]
  },
  {
   "cell_type": "markdown",
   "id": "dd05ea7c-e671-44b4-8385-c305b7bab6e3",
   "metadata": {},
   "source": [
    "# comment\n",
    "same output as what llms said output would be"
   ]
  },
  {
   "cell_type": "markdown",
   "id": "ee66f3a7-68c7-4dd1-b389-53184443e000",
   "metadata": {},
   "source": [
    "## Prompt 3"
   ]
  },
  {
   "cell_type": "code",
   "execution_count": 7,
   "id": "36ec97cc-dbd3-4ac8-b3a3-1c5a99a74ebd",
   "metadata": {},
   "outputs": [
    {
     "name": "stdout",
     "output_type": "stream",
     "text": [
      "Race Distribution (Counts):\n",
      " race\n",
      "Caucasian          76099\n",
      "AfricanAmerican    19210\n",
      "?                   2273\n",
      "Hispanic            2037\n",
      "Other               1506\n",
      "Asian                641\n",
      "Name: count, dtype: int64\n",
      "\n",
      "Race Distribution (Percentage):\n",
      " race\n",
      "Caucasian          74.778413\n",
      "AfricanAmerican    18.876639\n",
      "?                   2.233555\n",
      "Hispanic            2.001651\n",
      "Other               1.479866\n",
      "Asian               0.629876\n",
      "Name: proportion, dtype: float64\n"
     ]
    }
   ],
   "source": [
    "import pandas as pd\n",
    "df = pd.read_csv('diabetesdatasets/diabetic_data.csv'); print('Race Distribution (Counts):\\n', df['race'].value_counts()); print('\\nRace Distribution (Percentage):\\n', df['race'].value_counts(normalize=True) * 100)"
   ]
  },
  {
   "cell_type": "code",
   "execution_count": 9,
   "id": "7761eec2-02bd-4371-ae0e-a1dbb07a5929",
   "metadata": {},
   "outputs": [
    {
     "name": "stdout",
     "output_type": "stream",
     "text": [
      "\n",
      "Age Distribution (Counts):\n",
      " age\n",
      "[70-80)     26068\n",
      "[60-70)     22483\n",
      "[50-60)     17256\n",
      "[80-90)     17197\n",
      "[40-50)      9685\n",
      "[30-40)      3775\n",
      "[90-100)     2793\n",
      "[20-30)      1657\n",
      "[10-20)       691\n",
      "[0-10)        161\n",
      "Name: count, dtype: int64\n",
      "\n",
      "Age Distribution (Percentage):\n",
      " age\n",
      "[70-80)     25.615628\n",
      "[60-70)     22.092840\n",
      "[50-60)     16.956547\n",
      "[80-90)     16.898571\n",
      "[40-50)      9.516931\n",
      "[30-40)      3.709490\n",
      "[90-100)     2.744532\n",
      "[20-30)      1.628245\n",
      "[10-20)      0.679009\n",
      "[0-10)       0.158206\n",
      "Name: proportion, dtype: float64\n"
     ]
    }
   ],
   "source": [
    "import pandas as pd\n",
    "df = pd.read_csv('diabetesdatasets/diabetic_data.csv'); print('\\nAge Distribution (Counts):\\n', df['age'].value_counts()); print('\\nAge Distribution (Percentage):\\n', df['age'].value_counts(normalize=True) * 100)"
   ]
  },
  {
   "cell_type": "markdown",
   "id": "d1e44df6-8d32-4a8e-ae23-acbc75c2e610",
   "metadata": {},
   "source": [
    "### comment\n",
    "same output as what llm said it would be"
   ]
  },
  {
   "cell_type": "code",
   "execution_count": 11,
   "id": "718a1b00-5e5c-4750-ad65-58e65a1dbba5",
   "metadata": {},
   "outputs": [
    {
     "name": "stdout",
     "output_type": "stream",
     "text": [
      "Original training set shape: Counter({0: 63286, 1: 7950})\n",
      "After SMOTE: Counter({0: 63286, 1: 63286})\n",
      "After RandomUnderSampler: Counter({0: 7950, 1: 7950})\n",
      "After SMOTETomek: Counter({0: 55505, 1: 55505})\n",
      "Trained RandomForest with class_weight='balanced'\n"
     ]
    }
   ],
   "source": [
    "#old code provided by LLM\n",
    "# --- Conceptual Code Snippets ---\n",
    "# Assume X_train, y_train are your training features and target\n",
    "# And 'race' or 'age' is one of the columns in X_train or affects y_train's balance\n",
    "# For simplicity, let's imagine we're rebalancing based on the target variable 'y_train'\n",
    "# which itself might be imbalanced, and this imbalance could be correlated with 'race' or 'age'.\n",
    "\n",
    "# 0. Setup (Illustrative - you would load your data properly)\n",
    "# import pandas as pd\n",
    "# from sklearn.model_selection import train_test_split\n",
    "# from collections import Counter\n",
    "\n",
    "# # Load your data (replace with actual loading)\n",
    "# # df = pd.read_csv('diabetesdatasets/diabetic_data.csv')\n",
    "# # # Preprocess: e.g., handle '?' in race, encode categoricals, define X and y\n",
    "# # # For illustration, assume 'y' is a binary target derived from 'readmitted'\n",
    "# # y = df['readmitted'].apply(lambda x: 1 if x == '<30' else 0)\n",
    "# # X = df.drop('readmitted', axis=1)\n",
    "# # # ... further preprocessing for X (encoding, scaling, feature selection) ...\n",
    "# # X_train, X_test, y_train, y_test = train_test_split(X, y, test_size=0.3, random_state=42, stratify=y)\n",
    "\n",
    "\n",
    "# 1. Handling '?' in Race (Example: Mode Imputation)\n",
    "# X_train['race'] = X_train['race'].replace('?', X_train['race'].mode()[0])\n",
    "# X_test['race'] = X_test['race'].replace('?', X_train['race'].mode()[0]) # Use mode from train set\n",
    "\n",
    "# 2. SMOTE (Oversampling)\n",
    "# from imblearn.over_sampling import SMOTE\n",
    "# print(f\"Original training set shape: {Counter(y_train)}\")\n",
    "# smote = SMOTE(random_state=42, sampling_strategy='auto') # Adjust sampling_strategy as needed\n",
    "# X_train_smote, y_train_smote = smote.fit_resample(X_train, y_train)\n",
    "# print(f\"Resampled training set shape (SMOTE): {Counter(y_train_smote)}\")\n",
    "\n",
    "# 3. RandomUnderSampler (Undersampling)\n",
    "# from imblearn.under_sampling import RandomUnderSampler\n",
    "# print(f\"Original training set shape: {Counter(y_train)}\")\n",
    "# rus = RandomUnderSampler(random_state=42, sampling_strategy='auto') # sampling_strategy='majority'\n",
    "# X_train_rus, y_train_rus = rus.fit_resample(X_train, y_train)\n",
    "# print(f\"Resampled training set shape (RandomUnderSampler): {Counter(y_train_rus)}\")\n",
    "\n",
    "# 4. SMOTETomek (Hybrid)\n",
    "# from imblearn.combine import SMOTETomek\n",
    "# print(f\"Original training set shape: {Counter(y_train)}\")\n",
    "# smt = SMOTETomek(random_state=42, smote=SMOTE(sampling_strategy='auto'), tomek=TomekLinks(sampling_strategy='all'))\n",
    "# X_train_smt, y_train_smt = smt.fit_resample(X_train, y_train)\n",
    "# print(f\"Resampled training set shape (SMOTETomek): {Counter(y_train_smt)}\")\n",
    "\n",
    "# 5. Cost-Sensitive Learning (Example with RandomForestClassifier)\n",
    "# from sklearn.ensemble import RandomForestClassifier\n",
    "# # Define class weights - e.g., if class 0 is majority and class 1 is minority\n",
    "# # weights = {0: 1, 1: 10} # Give 10x more weight to misclassifying class 1\n",
    "# # model = RandomForestClassifier(class_weight=weights, random_state=42)\n",
    "# # model.fit(X_train, y_train) # Train on original (but possibly preprocessed) data\n",
    "\n",
    "#New code\n",
    "import pandas as pd\n",
    "import numpy as np\n",
    "from sklearn.model_selection import train_test_split\n",
    "from collections import Counter\n",
    "\n",
    "from imblearn.over_sampling import SMOTE\n",
    "from imblearn.under_sampling import RandomUnderSampler\n",
    "from imblearn.combine import SMOTETomek\n",
    "from sklearn.ensemble import RandomForestClassifier\n",
    "\n",
    "# 1. Load the data\n",
    "df = pd.read_csv(\"diabetesdatasets/diabetic_data.csv\")\n",
    "\n",
    "# 2. Define your binary target: readmitted within 30 days\n",
    "df[\"readmitted\"] = df[\"readmitted\"].apply(lambda x: 1 if x == \"<30\" else 0)\n",
    "y = df[\"readmitted\"]\n",
    "X = df.drop(columns=[\"readmitted\"])\n",
    "\n",
    "# 3. Impute missing race entries (‘?’) with the mode of the training set\n",
    "mode_race = X[\"race\"].mode()[0]\n",
    "X[\"race\"] = X[\"race\"].replace(\"?\", mode_race)\n",
    "\n",
    "# 4. Encode all categorical columns as integer codes\n",
    "for col in X.select_dtypes(include=\"object\"):\n",
    "    X[col] = X[col].astype(\"category\").cat.codes\n",
    "\n",
    "# 5. Split into train and test (stratified on y)\n",
    "X_train, X_test, y_train, y_test = train_test_split(\n",
    "    X, y,\n",
    "    test_size=0.30,\n",
    "    random_state=42,\n",
    "    stratify=y\n",
    ")\n",
    "\n",
    "print(\"Original training set shape:\", Counter(y_train))\n",
    "\n",
    "# 6. SMOTE oversampling\n",
    "smote = SMOTE(random_state=42)\n",
    "X_train_smote, y_train_smote = smote.fit_resample(X_train, y_train)\n",
    "print(\"After SMOTE:\", Counter(y_train_smote))\n",
    "\n",
    "# 7. Random undersampling\n",
    "rus = RandomUnderSampler(random_state=42)\n",
    "X_train_rus, y_train_rus = rus.fit_resample(X_train, y_train)\n",
    "print(\"After RandomUnderSampler:\", Counter(y_train_rus))\n",
    "\n",
    "# 8. SMOTE + Tomek links (hybrid)\n",
    "smt = SMOTETomek(random_state=42)\n",
    "X_train_smt, y_train_smt = smt.fit_resample(X_train, y_train)\n",
    "print(\"After SMOTETomek:\", Counter(y_train_smt))\n",
    "\n",
    "# 9. Cost-sensitive learning with RandomForest\n",
    "#    using balanced class weights\n",
    "rf = RandomForestClassifier(class_weight=\"balanced\", random_state=42)\n",
    "rf.fit(X_train, y_train)\n",
    "print(\"Trained RandomForest with class_weight='balanced'\")"
   ]
  },
  {
   "cell_type": "markdown",
   "id": "dd179b5b-8f68-4681-8777-26e801b6128a",
   "metadata": {},
   "source": [
    "##  output\n",
    "original training set was heavily imbalanced, with about 63,286 negative cases versus 7,950 positives. Applying SMOTE generated synthetic positives until both classes had 63,286 samples, perfectly balancing the data but at the cost of a very large training set. Random undersampling threw away excess negatives to match the 7,950 positives, giving equal class sizes but much less data overall. The hybrid SMOTETomek approach first oversampled and then cleaned border points, yielding 55,505 of each class, a middle ground between data volume and balance. Finally, you trained a RandomForest using class_weight='balanced', which tells the model itself to pay extra attention to the minority class without changing the data."
   ]
  },
  {
   "cell_type": "code",
   "execution_count": null,
   "id": "79fe0365-d837-47c7-b824-1c01c60051a3",
   "metadata": {},
   "outputs": [],
   "source": []
  }
 ],
 "metadata": {
  "kernelspec": {
   "display_name": "Python 3 (ipykernel)",
   "language": "python",
   "name": "python3"
  },
  "language_info": {
   "codemirror_mode": {
    "name": "ipython",
    "version": 3
   },
   "file_extension": ".py",
   "mimetype": "text/x-python",
   "name": "python",
   "nbconvert_exporter": "python",
   "pygments_lexer": "ipython3",
   "version": "3.11.5"
  }
 },
 "nbformat": 4,
 "nbformat_minor": 5
}
